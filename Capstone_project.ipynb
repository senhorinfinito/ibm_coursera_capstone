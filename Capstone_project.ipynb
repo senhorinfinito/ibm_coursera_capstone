{
 "cells": [
  {
   "cell_type": "markdown",
   "id": "conditional-memory",
   "metadata": {},
   "source": [
    "<h1> CAPSTONE PROJECT - 001 </h1>"
   ]
  },
  {
   "cell_type": "markdown",
   "id": "amino-leave",
   "metadata": {},
   "source": [
    "-  This file contain my final project\n",
    "\n",
    "-  notebook explains the each and every steps of learning\n",
    "\n"
   ]
  },
  {
   "cell_type": "markdown",
   "id": "afraid-transition",
   "metadata": {},
   "source": [
    "## WEEK  1 ASSIGNMNET \n"
   ]
  },
  {
   "cell_type": "markdown",
   "id": "biblical-indie",
   "metadata": {},
   "source": [
    "1. Write some markdown to explain that this notebook will be mainly used for the capstone project.\n",
    "2. Import the pandas library as pd.\n",
    "3. Import the Numpy library as np.\n",
    "4. Print the following the statement: Hello Capstone Project Course!\n",
    "5. Push the Notebook to your Github repository and submit a link to the notebook on your Github repository"
   ]
  },
  {
   "cell_type": "code",
   "execution_count": 2,
   "id": "alternative-bathroom",
   "metadata": {},
   "outputs": [
    {
     "name": "stdout",
     "output_type": "stream",
     "text": [
      "Hello Capstone Project Course!\n"
     ]
    }
   ],
   "source": [
    "import pandas as pd\n",
    "import numpy as np\n",
    "\n",
    "\n",
    "print(\"Hello Capstone Project Course!\")"
   ]
  },
  {
   "cell_type": "markdown",
   "id": "surface-judge",
   "metadata": {},
   "source": [
    "# Week 2"
   ]
  },
  {
   "cell_type": "code",
   "execution_count": 6,
   "id": "quantitative-young",
   "metadata": {},
   "outputs": [
    {
     "name": "stdout",
     "output_type": "stream",
     "text": [
      "Folium installed\n",
      "Libraries imported.\n"
     ]
    }
   ],
   "source": [
    "import requests # library to handle requests\n",
    "import pandas as pd # library for data analsysis\n",
    "import numpy as np # library to handle data in a vectorized manner\n",
    "import random # library for random number generation\n",
    "\n",
    "\n",
    "# !pip install geopy\n",
    "from geopy.geocoders import Nominatim # module to convert an address into latitude and longitude values\n",
    "\n",
    "# libraries for displaying images\n",
    "from IPython.display import Image \n",
    "from IPython.core.display import HTML \n",
    "    \n",
    "# tranforming json file into a pandas dataframe library\n",
    "from pandas.io.json import json_normalize\n",
    "\n",
    "\n",
    "# ! pip install folium==0.5.0\n",
    "import folium # plotting library\n",
    "\n",
    "print('Folium installed')\n",
    "print('Libraries imported.')"
   ]
  },
  {
   "cell_type": "code",
   "execution_count": 7,
   "id": "transparent-ethiopia",
   "metadata": {},
   "outputs": [
    {
     "name": "stdout",
     "output_type": "stream",
     "text": [
      "Your credentails:\n",
      "CLIENT_ID: NCJJSK0DSOE4DKYWUMH25CPNXUH43OJMLDKKSPZ5BSJ2QAX2\n",
      "CLIENT_SECRET:TBX154TZ2YFWOIWLM5RPQMOWWJCO3JVNMR0UHP5ZXOMJO5YV\n"
     ]
    }
   ],
   "source": [
    "CLIENT_ID = 'NCJJSK0DSOE4DKYWUMH25CPNXUH43OJMLDKKSPZ5BSJ2QAX2' \n",
    "CLIENT_SECRET = 'TBX154TZ2YFWOIWLM5RPQMOWWJCO3JVNMR0UHP5ZXOMJO5YV' \n",
    "ACCESS_TOKEN = '' \n",
    "VERSION = '20180604'\n",
    "LIMIT = 30\n",
    "print('Your credentails:')\n",
    "print('CLIENT_ID: ' + CLIENT_ID)\n",
    "print('CLIENT_SECRET:' + CLIENT_SECRET)"
   ]
  },
  {
   "cell_type": "code",
   "execution_count": null,
   "id": "interim-summer",
   "metadata": {},
   "outputs": [],
   "source": []
  }
 ],
 "metadata": {
  "kernelspec": {
   "display_name": "Python 3",
   "language": "python",
   "name": "python3"
  },
  "language_info": {
   "codemirror_mode": {
    "name": "ipython",
    "version": 3
   },
   "file_extension": ".py",
   "mimetype": "text/x-python",
   "name": "python",
   "nbconvert_exporter": "python",
   "pygments_lexer": "ipython3",
   "version": "3.7.9"
  }
 },
 "nbformat": 4,
 "nbformat_minor": 5
}
