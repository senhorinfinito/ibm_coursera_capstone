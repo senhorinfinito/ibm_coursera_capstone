{
 "cells": [
  {
   "cell_type": "markdown",
   "id": "chronic-intervention",
   "metadata": {},
   "source": [
    "<h1> CAPSTONE PROJECT - 001 </h1>"
   ]
  },
  {
   "cell_type": "markdown",
   "id": "inner-canvas",
   "metadata": {},
   "source": [
    "-  This file contain my final project\n",
    "\n",
    "-  notebook explains the each and every steps of learning\n",
    "\n"
   ]
  },
  {
   "cell_type": "markdown",
   "id": "viral-posting",
   "metadata": {},
   "source": [
    "## WEEK  1 ASSIGNMNET \n"
   ]
  },
  {
   "cell_type": "markdown",
   "id": "sudden-riding",
   "metadata": {},
   "source": [
    "1. Write some markdown to explain that this notebook will be mainly used for the capstone project.\n",
    "2. Import the pandas library as pd.\n",
    "3. Import the Numpy library as np.\n",
    "4. Print the following the statement: Hello Capstone Project Course!\n",
    "5. Push the Notebook to your Github repository and submit a link to the notebook on your Github repository"
   ]
  },
  {
   "cell_type": "code",
   "execution_count": 2,
   "id": "fixed-bidding",
   "metadata": {},
   "outputs": [
    {
     "name": "stdout",
     "output_type": "stream",
     "text": [
      "Hello Capstone Project Course!\n"
     ]
    }
   ],
   "source": [
    "import pandas as pd\n",
    "import numpy as np\n",
    "\n",
    "\n",
    "print(\"Hello Capstone Project Course!\")"
   ]
  },
  {
   "cell_type": "code",
   "execution_count": null,
   "id": "cooperative-warehouse",
   "metadata": {},
   "outputs": [],
   "source": []
  }
 ],
 "metadata": {
  "kernelspec": {
   "display_name": "Python 3",
   "language": "python",
   "name": "python3"
  },
  "language_info": {
   "codemirror_mode": {
    "name": "ipython",
    "version": 3
   },
   "file_extension": ".py",
   "mimetype": "text/x-python",
   "name": "python",
   "nbconvert_exporter": "python",
   "pygments_lexer": "ipython3",
   "version": "3.7.9"
  }
 },
 "nbformat": 4,
 "nbformat_minor": 5
}
