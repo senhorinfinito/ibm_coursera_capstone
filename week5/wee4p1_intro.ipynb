{
 "cells": [
  {
   "cell_type": "markdown",
   "id": "surface-concrete",
   "metadata": {},
   "source": [
    "# Introduction"
   ]
  },
  {
   "cell_type": "markdown",
   "id": "textile-portsmouth",
   "metadata": {},
   "source": [
    "Pune is the 8th largest metropolis in India. It is in the Indian state of Maharashtra. The city is famous for the great Maratha king Chatrapati Shivaji Maharaj. The game of badminton was invented there in the 19th century. It is also the birthplace of spiritual teacher Meher Baba. Mula and Mutha are the two rivers that flow through the city. It has also\", \"Oxford of the East\", \"Detroit of India\" by some.\n",
    "\n",
    "It has a major Information Technology (IT) center. This city is managed by the Pune Municipal Council (PMC). Pune is a city of knowledge and often known as the Oxford of the east. In Marathi, it is known as vidyeche maherghar. It means the hometown of education. The population of Pune was 8,242,142 by 2015. [1]\n",
    "\n",
    "There are many educational institutions like Symbiosis, SP and Fergusson. Many people in Pune are food lovers, there are many famous Bhelpuri and Vada pav centres.\n",
    "\n",
    "#### Pune turns to be the first choice for software companies and Office Commercial Space, The Special Economic Zone of the City includes the International Tech Park Pune,MagarPatta City and EON IT parks.\n",
    "\n",
    "#### The beautiful and green city of Pune has the offices of most of the big IT companies in India and still growing like anything. Pune is home to some of the most stunning IT Parks in India and also the amazing structure of office buildings,.\n",
    "\n",
    "## pune contains 12 IT Park inside and outside city\n",
    " 1. Pune Metro Area Population. World Gazetteer. Retrieved 7 July 2012."
   ]
  },
  {
   "cell_type": "markdown",
   "id": "critical-sound",
   "metadata": {},
   "source": [
    "Malls help to collecting all type of item in one place.\n",
    "\n",
    "This is great way to help costruction org.  and other hand helps to customer to get a mall in their area"
   ]
  },
  {
   "cell_type": "markdown",
   "id": "extensive-strand",
   "metadata": {},
   "source": [
    "From this project we are going to answer one question i.e.\n",
    "\n",
    "# Where Should Build a new mall ?"
   ]
  },
  {
   "cell_type": "code",
   "execution_count": null,
   "id": "irish-gateway",
   "metadata": {},
   "outputs": [],
   "source": []
  }
 ],
 "metadata": {
  "kernelspec": {
   "display_name": "Python 3",
   "language": "python",
   "name": "python3"
  },
  "language_info": {
   "codemirror_mode": {
    "name": "ipython",
    "version": 3
   },
   "file_extension": ".py",
   "mimetype": "text/x-python",
   "name": "python",
   "nbconvert_exporter": "python",
   "pygments_lexer": "ipython3",
   "version": "3.7.9"
  }
 },
 "nbformat": 4,
 "nbformat_minor": 5
}
