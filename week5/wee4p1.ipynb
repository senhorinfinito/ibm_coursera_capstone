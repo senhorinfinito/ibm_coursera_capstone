{
 "cells": [
  {
   "cell_type": "markdown",
   "id": "verbal-precipitation",
   "metadata": {},
   "source": [
    "#  Week 4 __ Capstone Project "
   ]
  },
  {
   "cell_type": "markdown",
   "id": "powerful-andorra",
   "metadata": {},
   "source": [
    "### Part 1"
   ]
  },
  {
   "cell_type": "markdown",
   "id": "chief-carpet",
   "metadata": {},
   "source": [
    "## Business Problem"
   ]
  },
  {
   "cell_type": "markdown",
   "id": "appointed-subcommittee",
   "metadata": {},
   "source": [
    "I'm from India. Currently I'm studing on identical location for mall in pune maharashtra.\n",
    "\n",
    "for this project following methology is applied\n",
    "\n",
    "1. Understand the problem (Location )\n",
    "2. Data Collectting from various resourse ___ all mentioned in part 2 \n",
    "3. Data cleaning __ \n",
    "4. Data Modelling \n",
    "5. Data Viz \n",
    "6. Business Insights \n",
    "7. Data Driven Desicion from the model\n",
    "\n",
    "\n",
    "\n",
    "## Target Audiance "
   ]
  },
  {
   "cell_type": "markdown",
   "id": "aboriginal-license",
   "metadata": {},
   "source": [
    "This project for who wanted to  setup a shop or mall in pune area. Because Day-by_day Pune city is growing faster.\n",
    "\n",
    "This project helps to costructor or shopper comunnity to build a mall where no other mall is present i neighborhood\n"
   ]
  },
  {
   "cell_type": "markdown",
   "id": "understanding-edition",
   "metadata": {},
   "source": [
    "# Data Collection\n"
   ]
  },
  {
   "cell_type": "markdown",
   "id": "three-communication",
   "metadata": {},
   "source": [
    "- latitude and longitude fro ploting and finding neighburhood purpose\n",
    "- Vaune Details (vanue data ) for performing clustering \n",
    "- geographical coordinates by using geocoder package\n",
    "- mall location scrappe from 4^2 API\n",
    "\n",
    "\n",
    "The data required for this project is minned from form foolwing links \n",
    "1. <a> https://en.wikipedia.org/wiki/List_of_neighbourhoods_in_Pune </a>\n",
    "2. <a> </a>"
   ]
  },
  {
   "cell_type": "markdown",
   "id": "traditional-education",
   "metadata": {},
   "source": [
    "### data collection"
   ]
  },
  {
   "cell_type": "markdown",
   "id": "incorrect-persian",
   "metadata": {},
   "source": [
    "1.  Latitude\n",
    "2. Longitude\n",
    "3. Neighbourhood\n",
    "4. Vanue details/ data\n",
    "5.  name \n",
    "6. Vanue Category\n",
    "7. "
   ]
  },
  {
   "cell_type": "code",
   "execution_count": null,
   "id": "qualified-entity",
   "metadata": {},
   "outputs": [],
   "source": []
  }
 ],
 "metadata": {
  "kernelspec": {
   "display_name": "Python 3",
   "language": "python",
   "name": "python3"
  },
  "language_info": {
   "codemirror_mode": {
    "name": "ipython",
    "version": 3
   },
   "file_extension": ".py",
   "mimetype": "text/x-python",
   "name": "python",
   "nbconvert_exporter": "python",
   "pygments_lexer": "ipython3",
   "version": "3.7.9"
  }
 },
 "nbformat": 4,
 "nbformat_minor": 5
}
